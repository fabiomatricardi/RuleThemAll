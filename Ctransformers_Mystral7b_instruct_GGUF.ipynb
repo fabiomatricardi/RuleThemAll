{
  "cells": [
    {
      "cell_type": "markdown",
      "metadata": {
        "id": "view-in-github",
        "colab_type": "text"
      },
      "source": [
        "<a href=\"https://colab.research.google.com/github/fabiomatricardi/RuleThemAll/blob/main/Ctransformers_Mystral7b_instruct_GGUF.ipynb\" target=\"_parent\"><img src=\"https://colab.research.google.com/assets/colab-badge.svg\" alt=\"Open In Colab\"/></a>"
      ]
    },
    {
      "cell_type": "code",
      "source": [
        "!pip install ctransformers>=0.2.24"
      ],
      "metadata": {
        "id": "FyIc644xEj6I"
      },
      "execution_count": null,
      "outputs": []
    },
    {
      "cell_type": "code",
      "execution_count": null,
      "metadata": {
        "id": "PiO41tw1ZVTS"
      },
      "outputs": [],
      "source": [
        "!wget https://huggingface.co/TheBloke/Mistral-7B-Instruct-v0.1-GGUF/resolve/main/mistral-7b-instruct-v0.1.Q4_K_M.gguf"
      ]
    },
    {
      "cell_type": "code",
      "execution_count": null,
      "metadata": {
        "id": "eRJCb4FxzwVK"
      },
      "outputs": [],
      "source": [
        "from ctransformers import AutoModelForCausalLM, AutoConfig, Config\n",
        "conf = AutoConfig(Config(temperature=0.7, repetition_penalty=1.1, batch_size=52,\n",
        "                max_new_tokens=1024, context_length=2048))\n",
        "llm = AutoModelForCausalLM.from_pretrained(\"/content/mistral-7b-instruct-v0.1.Q4_K_M.gguf\",\n",
        "                                           model_type=\"mistral\", config = conf)"
      ]
    },
    {
      "cell_type": "code",
      "source": [
        "prompt = \"quel est le sens de la science?\"\n",
        "template = f'''<<s>[INST] {prompt} [/INST]'''\n",
        "print(llm(template))"
      ],
      "metadata": {
        "colab": {
          "base_uri": "https://localhost:8080/"
        },
        "id": "DXG09F-RFCQk",
        "outputId": "0dc74891-4c86-4774-9a27-3e523fbbdc71"
      },
      "execution_count": null,
      "outputs": [
        {
          "output_type": "stream",
          "name": "stdout",
          "text": [
            "Le sens de la science est d'augmenter notre connaissance du monde et de nous aider à comprendre les phénomènes naturels, en utilisant un processus rigoureux et une méthodologie scientifique. Elle permet également de trouver des solutions pour les problèmes que nous rencontrons dans la vie quotidienne et d'améliorer notre qualité de vie. En somme, la science est une force puissante qui nous aide à mieux comprendre le monde autour nous et à améliorer notre compréhension de l'univers en général.\n"
          ]
        }
      ]
    }
  ],
  "metadata": {
    "colab": {
      "provenance": [],
      "include_colab_link": true
    },
    "kernelspec": {
      "display_name": "Python 3",
      "name": "python3"
    },
    "language_info": {
      "name": "python"
    }
  },
  "nbformat": 4,
  "nbformat_minor": 0
}